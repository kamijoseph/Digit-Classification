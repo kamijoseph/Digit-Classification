{
 "cells": [
  {
   "cell_type": "markdown",
   "id": "6150e6e1",
   "metadata": {},
   "source": [
    "# Mnist Digit Classification with Neural Networks"
   ]
  },
  {
   "cell_type": "code",
   "execution_count": null,
   "id": "27225cc0",
   "metadata": {},
   "outputs": [],
   "source": [
    "import numpy as np\n",
    "import matplotlib.pyplot as plt\n",
    "import seaborn as sns\n",
    "import cv2\n",
    "from PIL import Image\n",
    "import tensorflow as tf\n",
    "from tensorflow,math import confusion_matrix\n",
    "from keras.datasets import mnist\n",
    "\n",
    "tf.random.set_seed(21)"
   ]
  }
 ],
 "metadata": {
  "kernelspec": {
   "display_name": "mldl",
   "language": "python",
   "name": "python3"
  },
  "language_info": {
   "name": "python",
   "version": "3.12.11"
  }
 },
 "nbformat": 4,
 "nbformat_minor": 5
}
